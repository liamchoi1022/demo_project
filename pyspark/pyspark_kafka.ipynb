{
 "cells": [
  {
   "cell_type": "code",
   "execution_count": 1,
   "metadata": {},
   "outputs": [],
   "source": [
    "from pyspark.sql import SparkSession\n",
    "from pyspark.sql.functions import explode, col, from_json, lit\n",
    "from pyspark.sql.types import StructType, StructField, StringType, BooleanType, IntegerType, FloatType, ArrayType\n",
    "from datetime import datetime"
   ]
  },
  {
   "cell_type": "code",
   "execution_count": 2,
   "metadata": {},
   "outputs": [],
   "source": [
    "import os\n",
    "os.environ['PYSPARK_SUBMIT_ARGS'] = '--packages org.apache.spark:spark-streaming-kafka-0-10_2.12:3.4.1,org.apache.spark:spark-sql-kafka-0-10_2.12:3.2.1,org.postgresql:postgresql:42.6.0 pyspark-shell'"
   ]
  },
  {
   "cell_type": "code",
   "execution_count": 3,
   "metadata": {},
   "outputs": [
    {
     "name": "stderr",
     "output_type": "stream",
     "text": [
      "23/07/21 16:34:55 WARN Utils: Your hostname, KHs-MacBook-Air.local resolves to a loopback address: 127.0.0.1; using 192.168.0.81 instead (on interface en0)\n",
      "23/07/21 16:34:55 WARN Utils: Set SPARK_LOCAL_IP if you need to bind to another address\n"
     ]
    },
    {
     "name": "stdout",
     "output_type": "stream",
     "text": [
      ":: loading settings :: url = jar:file:/Users/liamchoi/Desktop/demo_project/.venv/lib/python3.9/site-packages/pyspark/jars/ivy-2.5.1.jar!/org/apache/ivy/core/settings/ivysettings.xml\n"
     ]
    },
    {
     "name": "stderr",
     "output_type": "stream",
     "text": [
      "Ivy Default Cache set to: /Users/liamchoi/.ivy2/cache\n",
      "The jars for the packages stored in: /Users/liamchoi/.ivy2/jars\n",
      "org.apache.spark#spark-streaming-kafka-0-10_2.12 added as a dependency\n",
      "org.apache.spark#spark-sql-kafka-0-10_2.12 added as a dependency\n",
      "org.postgresql#postgresql added as a dependency\n",
      ":: resolving dependencies :: org.apache.spark#spark-submit-parent-e9bf8af3-2f99-4c53-849c-94fbc2c6e645;1.0\n",
      "\tconfs: [default]\n",
      "\tfound org.apache.spark#spark-streaming-kafka-0-10_2.12;3.4.1 in central\n",
      "\tfound org.apache.spark#spark-token-provider-kafka-0-10_2.12;3.4.1 in central\n",
      "\tfound org.apache.kafka#kafka-clients;3.3.2 in central\n",
      "\tfound org.lz4#lz4-java;1.8.0 in central\n",
      "\tfound org.xerial.snappy#snappy-java;1.1.10.1 in central\n",
      "\tfound org.slf4j#slf4j-api;2.0.6 in central\n",
      "\tfound org.apache.hadoop#hadoop-client-runtime;3.3.4 in central\n",
      "\tfound org.apache.hadoop#hadoop-client-api;3.3.4 in central\n",
      "\tfound commons-logging#commons-logging;1.1.3 in central\n",
      "\tfound com.google.code.findbugs#jsr305;3.0.0 in central\n",
      "\tfound org.apache.spark#spark-sql-kafka-0-10_2.12;3.2.1 in central\n",
      "\tfound org.apache.commons#commons-pool2;2.6.2 in central\n",
      "\tfound org.spark-project.spark#unused;1.0.0 in central\n",
      "\tfound org.postgresql#postgresql;42.6.0 in central\n",
      "\tfound org.checkerframework#checker-qual;3.31.0 in central\n",
      ":: resolution report :: resolve 1088ms :: artifacts dl 33ms\n",
      "\t:: modules in use:\n",
      "\tcom.google.code.findbugs#jsr305;3.0.0 from central in [default]\n",
      "\tcommons-logging#commons-logging;1.1.3 from central in [default]\n",
      "\torg.apache.commons#commons-pool2;2.6.2 from central in [default]\n",
      "\torg.apache.hadoop#hadoop-client-api;3.3.4 from central in [default]\n",
      "\torg.apache.hadoop#hadoop-client-runtime;3.3.4 from central in [default]\n",
      "\torg.apache.kafka#kafka-clients;3.3.2 from central in [default]\n",
      "\torg.apache.spark#spark-sql-kafka-0-10_2.12;3.2.1 from central in [default]\n",
      "\torg.apache.spark#spark-streaming-kafka-0-10_2.12;3.4.1 from central in [default]\n",
      "\torg.apache.spark#spark-token-provider-kafka-0-10_2.12;3.4.1 from central in [default]\n",
      "\torg.checkerframework#checker-qual;3.31.0 from central in [default]\n",
      "\torg.lz4#lz4-java;1.8.0 from central in [default]\n",
      "\torg.postgresql#postgresql;42.6.0 from central in [default]\n",
      "\torg.slf4j#slf4j-api;2.0.6 from central in [default]\n",
      "\torg.spark-project.spark#unused;1.0.0 from central in [default]\n",
      "\torg.xerial.snappy#snappy-java;1.1.10.1 from central in [default]\n",
      "\t:: evicted modules:\n",
      "\torg.apache.spark#spark-token-provider-kafka-0-10_2.12;3.2.1 by [org.apache.spark#spark-token-provider-kafka-0-10_2.12;3.4.1] in [default]\n",
      "\torg.apache.kafka#kafka-clients;2.8.0 by [org.apache.kafka#kafka-clients;3.3.2] in [default]\n",
      "\t---------------------------------------------------------------------\n",
      "\t|                  |            modules            ||   artifacts   |\n",
      "\t|       conf       | number| search|dwnlded|evicted|| number|dwnlded|\n",
      "\t---------------------------------------------------------------------\n",
      "\t|      default     |   17  |   0   |   0   |   2   ||   15  |   0   |\n",
      "\t---------------------------------------------------------------------\n",
      ":: retrieving :: org.apache.spark#spark-submit-parent-e9bf8af3-2f99-4c53-849c-94fbc2c6e645\n",
      "\tconfs: [default]\n",
      "\t0 artifacts copied, 15 already retrieved (0kB/25ms)\n",
      "23/07/21 16:34:57 WARN NativeCodeLoader: Unable to load native-hadoop library for your platform... using builtin-java classes where applicable\n",
      "Setting default log level to \"WARN\".\n",
      "To adjust logging level use sc.setLogLevel(newLevel). For SparkR, use setLogLevel(newLevel).\n"
     ]
    }
   ],
   "source": [
    "spark = SparkSession \\\n",
    "    .builder \\\n",
    "    .appName(\"pyspark kafka_2\") \\\n",
    "    .getOrCreate()\n"
   ]
  },
  {
   "cell_type": "code",
   "execution_count": 4,
   "metadata": {},
   "outputs": [],
   "source": [
    "df_schema = StructType([\n",
    "    StructField(\"id\", StringType(), False),\n",
    "    StructField(\"title\", StringType(), False),\n",
    "    StructField(\"score\", IntegerType(), False),\n",
    "    StructField(\"upvote_ratio\", FloatType(), False),\n",
    "    StructField(\"content\", StringType(), True),\n",
    "    StructField(\"url\", StringType(), True),\n",
    "    StructField(\"no_of_comments\", IntegerType(), False),\n",
    "    StructField(\"locked\", BooleanType(), False)]\n",
    "    )\n"
   ]
  },
  {
   "cell_type": "code",
   "execution_count": 5,
   "metadata": {},
   "outputs": [],
   "source": [
    "# Subscribe to 1 topic\n",
    "df = spark \\\n",
    "  .readStream \\\n",
    "  .format(\"kafka\") \\\n",
    "  .option(\"kafka.bootstrap.servers\", \"localhost:9092\") \\\n",
    "  .option(\"subscribe\", \"reddit\") \\\n",
    "  .option(\"spark.sql.streaming.schemaInference\", \"true\") \\\n",
    "  .load()\n",
    "\n",
    "\n",
    "df = df.selectExpr(\"CAST(key AS STRING)\", \"CAST(value AS STRING)\", \"CAST(timestamp AS INTEGER) updated\") \\\n",
    "        .withColumn(\"value\", from_json(\"value\",schema=df_schema)) \\\n",
    "        .selectExpr(\"key\", \n",
    "                    \"value.id\",\n",
    "                    \"value.title\",\n",
    "                    \"value.score\",\n",
    "                    \"value.upvote_ratio\",\n",
    "                    \"value.content\",\n",
    "                    \"value.url\",\n",
    "                    \"value.no_of_comments\",\n",
    "                    \"value.locked\",\n",
    "                    \"updated\"\n",
    "                    )\n"
   ]
  },
  {
   "cell_type": "code",
   "execution_count": 6,
   "metadata": {},
   "outputs": [],
   "source": [
    "postgresql_properties = {\n",
    "    \"driver\": \"org.postgresql.Driver\",\n",
    "    \"url\": \"jdbc:postgresql://localhost:5432/demo_project?currentSchema=bronze\",\n",
    "    \"user\": \"airflow\",\n",
    "    \"password\": \"airflow\",\n",
    "    \"dbtable\": \"kafka\"\n",
    "}"
   ]
  },
  {
   "cell_type": "code",
   "execution_count": 7,
   "metadata": {},
   "outputs": [],
   "source": [
    "def write_stream_to_postgresql(batch_df, batch_id):\n",
    "\n",
    "    batch_df \\\n",
    "        .write \\\n",
    "        .mode(\"append\") \\\n",
    "        .jdbc(url=postgresql_properties[\"url\"],\n",
    "              table=postgresql_properties[\"dbtable\"],\n",
    "              properties=postgresql_properties)\n",
    "    print(\"record inserted\")\n"
   ]
  },
  {
   "cell_type": "code",
   "execution_count": 8,
   "metadata": {},
   "outputs": [
    {
     "name": "stderr",
     "output_type": "stream",
     "text": [
      "23/07/21 16:35:06 WARN ResolveWriteToStream: spark.sql.adaptive.enabled is not supported in streaming DataFrames/Datasets and will be disabled.\n",
      "23/07/21 16:35:07 WARN AdminClientConfig: These configurations '[key.deserializer, value.deserializer, enable.auto.commit, max.poll.records, auto.offset.reset]' were supplied but are not used yet.\n",
      "                                                                                \r"
     ]
    },
    {
     "name": "stdout",
     "output_type": "stream",
     "text": [
      "record inserted\n"
     ]
    },
    {
     "name": "stderr",
     "output_type": "stream",
     "text": [
      "                                                                                \r"
     ]
    },
    {
     "name": "stdout",
     "output_type": "stream",
     "text": [
      "record inserted\n"
     ]
    },
    {
     "name": "stderr",
     "output_type": "stream",
     "text": [
      "                                                                                \r"
     ]
    },
    {
     "name": "stdout",
     "output_type": "stream",
     "text": [
      "record inserted\n"
     ]
    }
   ],
   "source": [
    "stream_writer = df \\\n",
    "    .writeStream \\\n",
    "    .option(\"checkpointLocation\", \"./checkpoint/\") \\\n",
    "    .outputMode(\"update\") \\\n",
    "    .foreachBatch(write_stream_to_postgresql) \\\n",
    "    .start() \\\n",
    "    .awaitTermination()"
   ]
  },
  {
   "cell_type": "markdown",
   "metadata": {},
   "source": [
    "### read from postgres"
   ]
  },
  {
   "cell_type": "code",
   "execution_count": 9,
   "metadata": {},
   "outputs": [
    {
     "name": "stdout",
     "output_type": "stream",
     "text": [
      "+-------+-------+-----------------------------------------------------------------------------------------------------------------------------------+-----+------------+------------------------------------------------------------------------------------------------------------------------------------------------------------------------------------------------------------------------------------------------------------------------------------------------------------------------------------------------------------------------------------------------------------------------------------------------------------------------------------------------------------------------------------------------------------------------------------------------------------------------------------------------------------------------------------------------------------------------------------------------------------------------------------------------------------------------------------------------------------------------------------------------------------------------------------------------------------------------------------------------------------------------------------------------------------------------------------------------------------------------------------------------------------------------------------------------------------------------------------------------------------------------------------------------------------------------------------------------------------------------------------------------------------------------------------+-----------------------------------------------------------------------------------------------------------------------------------------------------------------------------------------+--------------+------+--------------------------+\n",
      "|key    |id     |title                                                                                                                              |score|upvote_ratio|content                                                                                                                                                                                                                                                                                                                                                                                                                                                                                                                                                                                                                                                                                                                                                                                                                                                                                                                                                                                                                                                                                                                                                                                                                                                                                                                                                                                                                             |url                                                                                                                                                                                      |no_of_comments|locked|updated                   |\n",
      "+-------+-------+-----------------------------------------------------------------------------------------------------------------------------------+-----+------------+------------------------------------------------------------------------------------------------------------------------------------------------------------------------------------------------------------------------------------------------------------------------------------------------------------------------------------------------------------------------------------------------------------------------------------------------------------------------------------------------------------------------------------------------------------------------------------------------------------------------------------------------------------------------------------------------------------------------------------------------------------------------------------------------------------------------------------------------------------------------------------------------------------------------------------------------------------------------------------------------------------------------------------------------------------------------------------------------------------------------------------------------------------------------------------------------------------------------------------------------------------------------------------------------------------------------------------------------------------------------------------------------------------------------------------+-----------------------------------------------------------------------------------------------------------------------------------------------------------------------------------------+--------------+------+--------------------------+\n",
      "|155u0pc|155u0pc|Bruce Peninsula National Park. :)                                                                                                  |36   |0.92        |                                                                                                                                                                                                                                                                                                                                                                                                                                                                                                                                                                                                                                                                                                                                                                                                                                                                                                                                                                                                                                                                                                                                                                                                                                                                                                                                                                                                                                    |https://i.redd.it/3fwfc7vapcdb1.jpg                                                                                                                                                      |2             |false |2023-07-21 14:59:02.112359|\n",
      "|155r187|155r187|Crazy winds!                                                                                                                       |158  |0.98        |Managed to get into the line of storms near Petrolia. Actually, it was more like the line of storms plowed over me as I tried to keep ahead of them.                                                                                                                                                                                                                                                                                                                                                                                                                                                                                                                                                                                                                                                                                                                                                                                                                                                                                                                                                                                                                                                                                                                                                                                                                                                                                |https://v.redd.it/prwn38ye5cdb1                                                                                                                                                          |18            |false |2023-07-21 14:59:02.112359|\n",
      "|155qvjc|155qvjc|Boat rentals in or around Belleville?                                                                                              |2    |0.75        |Title. I have a boat license, just wondering if there's anywhere I can rent a fishing boat (14-18ft) in Belleville, couldn't find anything on a Google search.                                                                                                                                                                                                                                                                                                                                                                                                                                                                                                                                                                                                                                                                                                                                                                                                                                                                                                                                                                                                                                                                                                                                                                                                                                                                      |https://www.reddit.com/r/ontario/comments/155qvjc/boat_rentals_in_or_around_belleville/                                                                                                  |0             |false |2023-07-21 14:59:02.112359|\n",
      "|155qydj|155qydj|Advice on getting a new car                                                                                                        |0    |0.5         |Hello dears, I am currently in process of getting my G category license. I want to buy an affordable and reliable car for my daily commute. Since there are so many brands and I have zero knowledge about them what should I go for?\\nMy preference would be earliest purchase and neat design.                                                                                                                                                                                                                                                                                                                                                                                                                                                                                                                                                                                                                                                                                                                                                                                                                                                                                                                                                                                                                                                                                                                                    |https://www.reddit.com/r/ontario/comments/155qydj/advice_on_getting_a_new_car/                                                                                                           |8             |false |2023-07-21 14:59:02.112359|\n",
      "|155tuz7|155tuz7|I want to learn about Immigration laws                                                                                             |3    |0.71        |Hey people,\\n\\nI work for a company that has a lot of temporary form workers. I want to buff up my knowledge on the requirements/rules/obstacles these citizens encounter regarding obtaining PR. I have a bit of knowledge regarding the NOC codes and point systems they use but not enough to facilitate helping them with questions or concerns. I would like to become more proficient on this process so I can help them. Going through the Canadian government website is a bit overwhelming and a lot of the language is a bit taxing. Could any one point me in the direction of a website, video, any thing that maybe breaks down this process is layman terms? Or provide their knowledge?\\n\\nIt would be greatly appreciated                                                                                                                                                                                                                                                                                                                                                                                                                                                                                                                                                                                                                                                                                           |https://www.reddit.com/r/ontario/comments/155tuz7/i_want_to_learn_about_immigration_laws/                                                                                                |5             |false |2023-07-21 14:59:02.112359|\n",
      "|155trhj|155trhj|Is it normal for a car accident from 2015 to still effect my car insurance premium?                                                |3    |1.0         |When I Google it, it says that accidents only count against you for 6 years. My insurance broker however is saying it can go up to 9 years…?\\n\\n“All insurance companies offer a maximum of 9 years accident free driving so all claims within 9 years will affect the rating.\\nThe claim Nov 4, 2015 will be less than 8 years old on the date of your renewal Aug 30th so you are given 7 years accident free driving.”                                                                                                                                                                                                                                                                                                                                                                                                                                                                                                                                                                                                                                                                                                                                                                                                                                                                                                                                                                                                           |https://www.reddit.com/r/ontario/comments/155trhj/is_it_normal_for_a_car_accident_from_2015_to/                                                                                          |3             |false |2023-07-21 14:59:02.112359|\n",
      "|155tmq4|155tmq4|Changing the Address on Driver's Licences                                                                                          |1    |0.67        |We are moving and because we don't have health cards, we are going to a SO to change the address. One of us will not be around for serval weeks, but he has his driver's license on our hand. Can we change our address on the Driver's Licenses all together and without him present at SO?\\n\\nIt's no big deal and I am just wondering if I can save a appointment.                                                                                                                                                                                                                                                                                                                                                                                                                                                                                                                                                                                                                                                                                                                                                                                                                                                                                                                                                                                                                                                               |https://www.reddit.com/r/ontario/comments/155tmq4/changing_the_address_on_drivers_licences/                                                                                              |3             |false |2023-07-21 14:59:02.112359|\n",
      "|155vnu9|155vnu9|Need help with minor car accident                                                                                                  |2    |0.67        |So I drive in Ontario, Canada. Today I was at a signal where there’s no straight ahead (dead end signal) and there were two option to go wither right or left.\\n\\nAt the signal I was at the left most lane and wanted to take a left. After the signal hit green I took a left but it was a bit wider because I wanted to get into the right lane. The car who was behind me and in the middle lane thought that I’ll probably go in the left lane after taking the turn so he was eyeing for the right lane and accelerating. \\n\\nAs a consequence we both got into the right lane (I got there first though) and since he couldn’t control it he was forced to go out of the curb. His car didn’t have any cosmetic damages (no dents or dings). His tire had a scratch mark as it skid on the curb probably. He said that there might be alignment needed for that. \\n\\nHe took my phone number, name and an image of my license plate. I was freaked out so I forgot to take a photo of his damage (which is another issue as I fear he might get his car more damaged and ask to be compensated and since I have no proof, as I didn’t take any pics, I’ll be liable).. \\n\\nCould someone explain my situation more deeply. Is this really a big damage, is alignment needed, if yes what is it and how much. I’m not very knowledgeable so it would be great if someone could provide a detailed explanation of my situation.|https://www.reddit.com/r/ontario/comments/155vnu9/need_help_with_minor_car_accident/                                                                                                     |9             |false |2023-07-21 14:59:02.112359|\n",
      "|155t0r2|155t0r2|Doug Ford gives children’s hospitals annual $330M funding — touted as the largest expansion of kids’ health-care in Ontario history|0    |0.5         |                                                                                                                                                                                                                                                                                                                                                                                                                                                                                                                                                                                                                                                                                                                                                                                                                                                                                                                                                                                                                                                                                                                                                                                                                                                                                                                                                                                                                                    |https://www.thestar.com/politics/provincial/doug-ford-gives-children-s-hospitals-annual-330m-funding-touted-as-the-largest-expansion-of/article_3da201f5-b28a-5210-845c-dea6b14c9bce.html|8             |false |2023-07-21 14:59:02.112359|\n",
      "|155rmqa|155rmqa|Starry Sky at Killbear Provincial Park                                                                                             |77   |0.99        |Taken on July 13th from the shoreline of Blind Bay Campground. Sony RX100M3 f2.8 ISO3200 30 Second exposure.                                                                                                                                                                                                                                                                                                                                                                                                                                                                                                                                                                                                                                                                                                                                                                                                                                                                                                                                                                                                                                                                                                                                                                                                                                                                                                                        |https://i.redd.it/jbzf63vi9cdb1.jpg                                                                                                                                                      |1             |false |2023-07-21 14:59:02.112359|\n",
      "|155tuz7|155tuz7|I want to learn about Immigration laws                                                                                             |1    |0.57        |Hey people,\\n\\nI work for a company that has a lot of temporary form workers. I want to buff up my knowledge on the requirements/rules/obstacles these citizens encounter regarding obtaining PR. I have a bit of knowledge regarding the NOC codes and point systems they use but not enough to facilitate helping them with questions or concerns. I would like to become more proficient on this process so I can help them. Going through the Canadian government website is a bit overwhelming and a lot of the language is a bit taxing. Could any one point me in the direction of a website, video, any thing that maybe breaks down this process is layman terms? Or provide their knowledge?\\n\\nIt would be greatly appreciated                                                                                                                                                                                                                                                                                                                                                                                                                                                                                                                                                                                                                                                                                           |https://www.reddit.com/r/ontario/comments/155tuz7/i_want_to_learn_about_immigration_laws/                                                                                                |5             |false |2023-07-21 14:59:02.112359|\n",
      "|155trhj|155trhj|Is it normal for a car accident from 2015 to still effect my car insurance premium?                                                |3    |1.0         |When I Google it, it says that accidents only count against you for 6 years. My insurance broker however is saying it can go up to 9 years…?\\n\\n“All insurance companies offer a maximum of 9 years accident free driving so all claims within 9 years will affect the rating.\\nThe claim Nov 4, 2015 will be less than 8 years old on the date of your renewal Aug 30th so you are given 7 years accident free driving.”                                                                                                                                                                                                                                                                                                                                                                                                                                                                                                                                                                                                                                                                                                                                                                                                                                                                                                                                                                                                           |https://www.reddit.com/r/ontario/comments/155trhj/is_it_normal_for_a_car_accident_from_2015_to/                                                                                          |3             |false |2023-07-21 14:59:02.112359|\n",
      "|155tmq4|155tmq4|Changing the Address on Driver's Licences                                                                                          |0    |0.5         |We are moving and because we don't have health cards, we are going to a SO to change the address. One of us will not be around for serval weeks, but he has his driver's license on our hand. Can we change our address on the Driver's Licenses all together and without him present at SO?\\n\\nIt's no big deal and I am just wondering if I can save a appointment.                                                                                                                                                                                                                                                                                                                                                                                                                                                                                                                                                                                                                                                                                                                                                                                                                                                                                                                                                                                                                                                               |https://www.reddit.com/r/ontario/comments/155tmq4/changing_the_address_on_drivers_licences/                                                                                              |4             |false |2023-07-21 14:59:02.112359|\n",
      "|155u0pc|155u0pc|Bruce Peninsula National Park. :)                                                                                                  |36   |0.92        |                                                                                                                                                                                                                                                                                                                                                                                                                                                                                                                                                                                                                                                                                                                                                                                                                                                                                                                                                                                                                                                                                                                                                                                                                                                                                                                                                                                                                                    |https://i.redd.it/3fwfc7vapcdb1.jpg                                                                                                                                                      |2             |false |2023-07-21 14:59:02.112359|\n",
      "|155r187|155r187|Crazy winds!                                                                                                                       |161  |0.98        |Managed to get into the line of storms near Petrolia. Actually, it was more like the line of storms plowed over me as I tried to keep ahead of them.                                                                                                                                                                                                                                                                                                                                                                                                                                                                                                                                                                                                                                                                                                                                                                                                                                                                                                                                                                                                                                                                                                                                                                                                                                                                                |https://v.redd.it/prwn38ye5cdb1                                                                                                                                                          |18            |false |2023-07-21 14:59:02.112359|\n",
      "|155qvjc|155qvjc|Boat rentals in or around Belleville?                                                                                              |2    |0.75        |Title. I have a boat license, just wondering if there's anywhere I can rent a fishing boat (14-18ft) in Belleville, couldn't find anything on a Google search.                                                                                                                                                                                                                                                                                                                                                                                                                                                                                                                                                                                                                                                                                                                                                                                                                                                                                                                                                                                                                                                                                                                                                                                                                                                                      |https://www.reddit.com/r/ontario/comments/155qvjc/boat_rentals_in_or_around_belleville/                                                                                                  |0             |false |2023-07-21 14:59:02.112359|\n",
      "|155qydj|155qydj|Advice on getting a new car                                                                                                        |0    |0.44        |Hello dears, I am currently in process of getting my G category license. I want to buy an affordable and reliable car for my daily commute. Since there are so many brands and I have zero knowledge about them what should I go for?\\nMy preference would be earliest purchase and neat design.                                                                                                                                                                                                                                                                                                                                                                                                                                                                                                                                                                                                                                                                                                                                                                                                                                                                                                                                                                                                                                                                                                                                    |https://www.reddit.com/r/ontario/comments/155qydj/advice_on_getting_a_new_car/                                                                                                           |8             |false |2023-07-21 14:59:02.112359|\n",
      "|155vnu9|155vnu9|Need help with minor car accident                                                                                                  |1    |0.57        |So I drive in Ontario, Canada. Today I was at a signal where there’s no straight ahead (dead end signal) and there were two option to go wither right or left.\\n\\nAt the signal I was at the left most lane and wanted to take a left. After the signal hit green I took a left but it was a bit wider because I wanted to get into the right lane. The car who was behind me and in the middle lane thought that I’ll probably go in the left lane after taking the turn so he was eyeing for the right lane and accelerating. \\n\\nAs a consequence we both got into the right lane (I got there first though) and since he couldn’t control it he was forced to go out of the curb. His car didn’t have any cosmetic damages (no dents or dings). His tire had a scratch mark as it skid on the curb probably. He said that there might be alignment needed for that. \\n\\nHe took my phone number, name and an image of my license plate. I was freaked out so I forgot to take a photo of his damage (which is another issue as I fear he might get his car more damaged and ask to be compensated and since I have no proof, as I didn’t take any pics, I’ll be liable).. \\n\\nCould someone explain my situation more deeply. Is this really a big damage, is alignment needed, if yes what is it and how much. I’m not very knowledgeable so it would be great if someone could provide a detailed explanation of my situation.|https://www.reddit.com/r/ontario/comments/155vnu9/need_help_with_minor_car_accident/                                                                                                     |12            |false |2023-07-21 14:59:02.112359|\n",
      "|155t0r2|155t0r2|Doug Ford gives children’s hospitals annual $330M funding — touted as the largest expansion of kids’ health-care in Ontario history|1    |0.56        |                                                                                                                                                                                                                                                                                                                                                                                                                                                                                                                                                                                                                                                                                                                                                                                                                                                                                                                                                                                                                                                                                                                                                                                                                                                                                                                                                                                                                                    |https://www.thestar.com/politics/provincial/doug-ford-gives-children-s-hospitals-annual-330m-funding-touted-as-the-largest-expansion-of/article_3da201f5-b28a-5210-845c-dea6b14c9bce.html|10            |false |2023-07-21 14:59:02.112359|\n",
      "|155rmqa|155rmqa|Starry Sky at Killbear Provincial Park                                                                                             |79   |0.99        |Taken on July 13th from the shoreline of Blind Bay Campground. Sony RX100M3 f2.8 ISO3200 30 Second exposure.                                                                                                                                                                                                                                                                                                                                                                                                                                                                                                                                                                                                                                                                                                                                                                                                                                                                                                                                                                                                                                                                                                                                                                                                                                                                                                                        |https://i.redd.it/jbzf63vi9cdb1.jpg                                                                                                                                                      |1             |false |2023-07-21 14:59:02.112359|\n",
      "+-------+-------+-----------------------------------------------------------------------------------------------------------------------------------+-----+------------+------------------------------------------------------------------------------------------------------------------------------------------------------------------------------------------------------------------------------------------------------------------------------------------------------------------------------------------------------------------------------------------------------------------------------------------------------------------------------------------------------------------------------------------------------------------------------------------------------------------------------------------------------------------------------------------------------------------------------------------------------------------------------------------------------------------------------------------------------------------------------------------------------------------------------------------------------------------------------------------------------------------------------------------------------------------------------------------------------------------------------------------------------------------------------------------------------------------------------------------------------------------------------------------------------------------------------------------------------------------------------------------------------------------------------------+-----------------------------------------------------------------------------------------------------------------------------------------------------------------------------------------+--------------+------+--------------------------+\n",
      "only showing top 20 rows\n",
      "\n"
     ]
    }
   ],
   "source": [
    "df = spark \\\n",
    "  .read \\\n",
    "  .jdbc (url = postgresql_properties[\"url\"], \n",
    "    table = postgresql_properties[\"dbtable\"],\n",
    "    properties = postgresql_properties)\n",
    "\n",
    "df.show(truncate=False)"
   ]
  },
  {
   "cell_type": "code",
   "execution_count": 10,
   "metadata": {},
   "outputs": [
    {
     "name": "stdout",
     "output_type": "stream",
     "text": [
      "Column<'key'>\n",
      "Column<'id'>\n",
      "Column<'title'>\n",
      "Column<'score'>\n",
      "Column<'upvote_ratio'>\n",
      "Column<'content'>\n",
      "Column<'url'>\n",
      "Column<'no_of_comments'>\n",
      "Column<'locked'>\n",
      "Column<'updated'>\n"
     ]
    }
   ],
   "source": [
    "def upsert_to_postgres(df, batch_id):\n",
    "    # Perform the merge (upsert) operation\n",
    "    df.alias(\"source\") \\\n",
    "        .mergeInto(\"bronze.kafka\", \"bronze.kafka.id = source.id\") \\\n",
    "        .whenMatchedUpdate(set={\n",
    "            \"title\":\"source.title\",\n",
    "            \"score\":\"source.score\",\n",
    "            \"upvote_ratio\":\"source.upvote_ratio\",\n",
    "            \"conten\":\"source.content\",\n",
    "            \"url\":\"source.url\",\n",
    "            \"no_of_comments\":\"source.no_of_comments\",\n",
    "            \"locked\":\"source.locked\",\n",
    "            \"updated\":\"source.updated\"\n",
    "        }) \\\n",
    "        .execute()\n"
   ]
  }
 ],
 "metadata": {
  "kernelspec": {
   "display_name": ".venv",
   "language": "python",
   "name": "python3"
  },
  "language_info": {
   "codemirror_mode": {
    "name": "ipython",
    "version": 3
   },
   "file_extension": ".py",
   "mimetype": "text/x-python",
   "name": "python",
   "nbconvert_exporter": "python",
   "pygments_lexer": "ipython3",
   "version": "3.9.6"
  },
  "orig_nbformat": 4
 },
 "nbformat": 4,
 "nbformat_minor": 2
}
